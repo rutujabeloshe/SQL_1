{
 "cells": [
  {
   "cell_type": "code",
   "execution_count": 1,
   "id": "9301b926",
   "metadata": {},
   "outputs": [
    {
     "name": "stdout",
     "output_type": "stream",
     "text": [
      "The first row in the resulting record set: 46796E3331\n"
     ]
    }
   ],
   "source": [
    "import sqlite3\n",
    "\n",
    "# Connect to the SQLite database (creates one if not exists)\n",
    "conn = sqlite3.connect('ages.sqlite')\n",
    "cur = conn.cursor()\n",
    "\n",
    "# Create the \"Ages\" table if it doesn't exist\n",
    "cur.execute('''\n",
    "CREATE TABLE IF NOT EXISTS Ages (\n",
    "  name VARCHAR(128),\n",
    "  age INTEGER\n",
    ")\n",
    "''')\n",
    "\n",
    "# Delete any existing rows from the \"Ages\" table\n",
    "cur.execute('DELETE FROM Ages')\n",
    "\n",
    "# Insert provided rows into the \"Ages\" table\n",
    "cur.execute('INSERT INTO Ages (name, age) VALUES (?, ?)', ('Mara', 28))\n",
    "cur.execute('INSERT INTO Ages (name, age) VALUES (?, ?)', ('Otto', 33))\n",
    "cur.execute('INSERT INTO Ages (name, age) VALUES (?, ?)', ('Fyn', 31))\n",
    "cur.execute('INSERT INTO Ages (name, age) VALUES (?, ?)', ('Neshawn', 17))\n",
    "\n",
    "# Commit the changes\n",
    "conn.commit()\n",
    "\n",
    "# Run the SQL command to retrieve hex representation of name concatenated with age\n",
    "cur.execute('SELECT hex(name || age) AS X FROM Ages ORDER BY X')\n",
    "\n",
    "# Fetch the first row in the result set\n",
    "row = cur.fetchone()\n",
    "\n",
    "# Print the result\n",
    "print(\"The first row in the resulting record set:\", row[0])\n",
    "\n",
    "# Close the cursor and connection\n",
    "cur.close()\n",
    "conn.close()\n"
   ]
  },
  {
   "cell_type": "code",
   "execution_count": null,
   "id": "3919e6ba",
   "metadata": {},
   "outputs": [],
   "source": []
  }
 ],
 "metadata": {
  "kernelspec": {
   "display_name": "Python 3 (ipykernel)",
   "language": "python",
   "name": "python3"
  },
  "language_info": {
   "codemirror_mode": {
    "name": "ipython",
    "version": 3
   },
   "file_extension": ".py",
   "mimetype": "text/x-python",
   "name": "python",
   "nbconvert_exporter": "python",
   "pygments_lexer": "ipython3",
   "version": "3.11.5"
  }
 },
 "nbformat": 4,
 "nbformat_minor": 5
}
